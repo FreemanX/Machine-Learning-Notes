{
 "cells": [
  {
   "cell_type": "markdown",
   "metadata": {},
   "source": [
    "# Nonparametric Models"
   ]
  },
  {
   "cell_type": "markdown",
   "metadata": {},
   "source": [
    "## Nonparametric vs. Parametric models    \n",
    "Given a data generator:\n",
    "$$\n",
    "y=f(x)+\\epsilon\n",
    "$$\n",
    "where $\\epsilon$ is some random noise, and $f$ is the true data function.\n",
    "### Parametric Modelling    \n",
    "Place strong assumption on what kind of function $f$ is, and the structure is known.    \n",
    "Examples:\n",
    "1. Linear Regression\n",
    "2. Ridge Regression\n",
    "3. Lasso Regression\n",
    "4. Perceptron (classification)\n",
    "5. Logistic Regression (both regression and classification)\n",
    "\n",
    "### Nonparametric modelling\n",
    "Little to no assumptions on the underlying function $f$. Nonparametric models (the number of parameters) often grow as the size of the observed data grow.    \n",
    "Examples:\n",
    "1. Decision Trees (both regression and classification)\n",
    "2. k-Nearest Neighbours (kNN) (both regression and classification)\n",
    "3. Local Linear Regression\n",
    "4. Support Vector Machines (both regression and classification)\n",
    "5. Random Forests (both regression and classification)"
   ]
  },
  {
   "cell_type": "markdown",
   "metadata": {},
   "source": [
    "## kNN"
   ]
  },
  {
   "cell_type": "code",
   "execution_count": null,
   "metadata": {},
   "outputs": [],
   "source": []
  }
 ],
 "metadata": {
  "kernelspec": {
   "display_name": "Python 3.9.13 64-bit",
   "language": "python",
   "name": "python3"
  },
  "language_info": {
   "name": "python",
   "version": "3.9.13"
  },
  "orig_nbformat": 4,
  "vscode": {
   "interpreter": {
    "hash": "aee8b7b246df8f9039afb4144a1f6fd8d2ca17a180786b69acc140d282b71a49"
   }
  }
 },
 "nbformat": 4,
 "nbformat_minor": 2
}
