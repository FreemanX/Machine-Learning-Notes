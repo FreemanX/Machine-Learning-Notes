{
 "cells": [
  {
   "cell_type": "markdown",
   "metadata": {},
   "source": [
    "# Maximum Likelihood Estimation(MLE)    \n"
   ]
  },
  {
   "cell_type": "markdown",
   "metadata": {},
   "source": [
    "### Setting     \n",
    "Sample $n$ observations (data), denoted by $X_1,X_2,...,X_n$. The data are independently drawn from some probability distribution $P$. The shorthand for this is:    \n",
    "\n",
    "$$\n",
    "X_1,...,X_n \\sim_{i.i.d.}P\n",
    "$$\n",
    "\n",
    "where $i.i.d.$ stands for independent and identically distributed. In practice, we never have access\n",
    "to P, we are just able to observe samples from P (namely $X_1,...,X_n$), which we will use to learn\n",
    "something about P. \n",
    "\n",
    "Then the probability of observing $X_1,...,X_n$ is:\n",
    "\\begin{align*}\n",
    "P_{\\theta}(observing\\ X_1,...,X_n) &= P_{\\theta}(X_1)\\times ...\\times P_{\\theta}(X_n) \\\\\n",
    "&=\\prod_{i=1}^{n}P_{\\theta}(X_i) \\\\\n",
    "&=L(\\theta)\n",
    "\\end{align*}\n",
    "\n",
    "$L(\\theta)$ is the likelihood and the goal is to choose the parameter $\\theta$ that gives the highest possible likelihood, i.e. find the maximum likelihood estimator\n",
    "\\begin{align*}\n",
    "\\hat{\\theta}_{MLE}=arg\\ maxL(\\theta)\n",
    "\\end{align*}"
   ]
  },
  {
   "cell_type": "markdown",
   "metadata": {},
   "source": [
    "#### MLE on Normal distribution     \n",
    "Assume $ X_1,...,X_n \\sim_{i.i.d.}N(\\mu,\\sigma^2)$. Compute $\\hat{\\mu}_{MLE}$ , $\\hat{\\sigma}^2_{MLE}$.\n"
   ]
  },
  {
   "cell_type": "code",
   "execution_count": null,
   "metadata": {},
   "outputs": [],
   "source": []
  }
 ],
 "metadata": {
  "kernelspec": {
   "display_name": "Python 3.9.13 ('COMP9417')",
   "language": "python",
   "name": "python3"
  },
  "language_info": {
   "name": "python",
   "version": "3.9.13"
  },
  "orig_nbformat": 4,
  "vscode": {
   "interpreter": {
    "hash": "b2d5407234b8938a089e01a60a45d2aae9d8d06e85dfd57bc61d76669c88389c"
   }
  }
 },
 "nbformat": 4,
 "nbformat_minor": 2
}
